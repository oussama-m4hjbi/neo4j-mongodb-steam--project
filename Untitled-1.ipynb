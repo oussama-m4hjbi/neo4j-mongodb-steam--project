{
 "cells": [
  {
   "cell_type": "code",
   "execution_count": 43,
   "metadata": {},
   "outputs": [
    {
     "name": "stdout",
     "output_type": "stream",
     "text": [
      "{'response': {'game_count': 10, 'games': [{'appid': 6060, 'name': 'Star Wars: Battlefront 2 (Classic, 2005)', 'playtime_forever': 647, 'img_icon_url': 'f6302406e215af8cff3533a747d30387f68bef2a', 'playtime_windows_forever': 21, 'playtime_mac_forever': 0, 'playtime_linux_forever': 0, 'rtime_last_played': 1646671304}, {'appid': 11020, 'name': 'TrackMania Nations Forever', 'playtime_forever': 347, 'img_icon_url': 'a422db7cb704324da48741b9e0a0cc193b566eb0', 'playtime_windows_forever': 347, 'playtime_mac_forever': 0, 'playtime_linux_forever': 0, 'rtime_last_played': 1654599477}, {'appid': 230410, 'name': 'Warframe', 'playtime_forever': 466, 'img_icon_url': '22064646470f4c53388ba87774c7ac10f0a91ffa', 'has_community_visible_stats': True, 'playtime_windows_forever': 0, 'playtime_mac_forever': 0, 'playtime_linux_forever': 0, 'rtime_last_played': 1483997829, 'content_descriptorids': [2, 5]}, {'appid': 316010, 'name': 'Magic Duels', 'playtime_forever': 411, 'img_icon_url': '203acf97d6ef30b98e5e07a01e3d9ab3c7342bb7', 'has_community_visible_stats': True, 'playtime_windows_forever': 0, 'playtime_mac_forever': 0, 'playtime_linux_forever': 0, 'rtime_last_played': 1486845586}, {'appid': 211420, 'name': 'DARK SOULSâ„¢: Prepare To Die Edition', 'playtime_forever': 156, 'img_icon_url': 'a24804c6c8412c8cd9d50efd06bf03fa58ff80a9', 'has_community_visible_stats': True, 'playtime_windows_forever': 0, 'playtime_mac_forever': 0, 'playtime_linux_forever': 0, 'rtime_last_played': 1483383902}, {'appid': 365720, 'name': 'Skyrim Script Extender (SKSE)', 'playtime_forever': 1, 'img_icon_url': '48eaa1815ac4beddc4d7c9fec6c2517f6f0b718e', 'playtime_windows_forever': 0, 'playtime_mac_forever': 0, 'playtime_linux_forever': 0, 'rtime_last_played': 1483996897}, {'appid': 291550, 'name': 'Brawlhalla', 'playtime_2weeks': 103, 'playtime_forever': 4174, 'img_icon_url': 'c43fac31b8bf8821764603a14d09412bc3d45f66', 'has_community_visible_stats': True, 'playtime_windows_forever': 4174, 'playtime_mac_forever': 0, 'playtime_linux_forever': 0, 'rtime_last_played': 1673867693}, {'appid': 760160, 'name': 'Vampire: The Masquerade - Bloodhunt', 'playtime_forever': 0, 'img_icon_url': '08e7dfced6c1d534ec5d580a3a177427c7250a60', 'has_community_visible_stats': True, 'playtime_windows_forever': 0, 'playtime_mac_forever': 0, 'playtime_linux_forever': 0, 'rtime_last_played': 0, 'content_descriptorids': [1, 2, 5]}, {'appid': 1449850, 'name': 'Yu-Gi-Oh!  Master Duel', 'playtime_2weeks': 395, 'playtime_forever': 11889, 'img_icon_url': '45442aefc5c4050cf37762a2acd978008739544a', 'has_community_visible_stats': True, 'playtime_windows_forever': 11889, 'playtime_mac_forever': 0, 'playtime_linux_forever': 0, 'rtime_last_played': 1673952050}, {'appid': 1794680, 'name': 'Vampire Survivors', 'playtime_forever': 2011, 'img_icon_url': 'b09d9a388f5328ec977f7b45228ac8ae21a78c55', 'has_community_visible_stats': True, 'playtime_windows_forever': 2011, 'playtime_mac_forever': 0, 'playtime_linux_forever': 0, 'rtime_last_played': 1671207450}]}}\n"
     ]
    }
   ],
   "source": [
    "import json\n",
    "\n",
    "with open('c:\\\\Users\\\\oussa\\\\OneDrive\\\\Desktop\\\\mogo and neo4j\\\\SteamAccounts\\\\data_Riccardo.json', 'r') as f:\n",
    "    data = json.load(f)\n",
    "    print(data)"
   ]
  },
  {
   "cell_type": "code",
   "execution_count": 44,
   "metadata": {},
   "outputs": [
    {
     "name": "stdout",
     "output_type": "stream",
     "text": [
      "{\"response\": {\"game_count\": 10, \"games\": [{\"appid\": 6060, \"name\": \"Star Wars: Battlefront 2 (Classic, 2005)\", \"playtime_forever\": 647, \"img_icon_url\": \"f6302406e215af8cff3533a747d30387f68bef2a\", \"playtime_windows_forever\": 21, \"playtime_mac_forever\": 0, \"playtime_linux_forever\": 0, \"rtime_last_played\": 1646671304, \"name_player\": \"Riccardo\"}, {\"appid\": 11020, \"name\": \"TrackMania Nations Forever\", \"playtime_forever\": 347, \"img_icon_url\": \"a422db7cb704324da48741b9e0a0cc193b566eb0\", \"playtime_windows_forever\": 347, \"playtime_mac_forever\": 0, \"playtime_linux_forever\": 0, \"rtime_last_played\": 1654599477, \"name_player\": \"Riccardo\"}, {\"appid\": 230410, \"name\": \"Warframe\", \"playtime_forever\": 466, \"img_icon_url\": \"22064646470f4c53388ba87774c7ac10f0a91ffa\", \"has_community_visible_stats\": true, \"playtime_windows_forever\": 0, \"playtime_mac_forever\": 0, \"playtime_linux_forever\": 0, \"rtime_last_played\": 1483997829, \"content_descriptorids\": [2, 5], \"name_player\": \"Riccardo\"}, {\"appid\": 316010, \"name\": \"Magic Duels\", \"playtime_forever\": 411, \"img_icon_url\": \"203acf97d6ef30b98e5e07a01e3d9ab3c7342bb7\", \"has_community_visible_stats\": true, \"playtime_windows_forever\": 0, \"playtime_mac_forever\": 0, \"playtime_linux_forever\": 0, \"rtime_last_played\": 1486845586, \"name_player\": \"Riccardo\"}, {\"appid\": 211420, \"name\": \"DARK SOULS\\u00e2\\u201e\\u00a2: Prepare To Die Edition\", \"playtime_forever\": 156, \"img_icon_url\": \"a24804c6c8412c8cd9d50efd06bf03fa58ff80a9\", \"has_community_visible_stats\": true, \"playtime_windows_forever\": 0, \"playtime_mac_forever\": 0, \"playtime_linux_forever\": 0, \"rtime_last_played\": 1483383902, \"name_player\": \"Riccardo\"}, {\"appid\": 365720, \"name\": \"Skyrim Script Extender (SKSE)\", \"playtime_forever\": 1, \"img_icon_url\": \"48eaa1815ac4beddc4d7c9fec6c2517f6f0b718e\", \"playtime_windows_forever\": 0, \"playtime_mac_forever\": 0, \"playtime_linux_forever\": 0, \"rtime_last_played\": 1483996897, \"name_player\": \"Riccardo\"}, {\"appid\": 291550, \"name\": \"Brawlhalla\", \"playtime_2weeks\": 103, \"playtime_forever\": 4174, \"img_icon_url\": \"c43fac31b8bf8821764603a14d09412bc3d45f66\", \"has_community_visible_stats\": true, \"playtime_windows_forever\": 4174, \"playtime_mac_forever\": 0, \"playtime_linux_forever\": 0, \"rtime_last_played\": 1673867693, \"name_player\": \"Riccardo\"}, {\"appid\": 760160, \"name\": \"Vampire: The Masquerade - Bloodhunt\", \"playtime_forever\": 0, \"img_icon_url\": \"08e7dfced6c1d534ec5d580a3a177427c7250a60\", \"has_community_visible_stats\": true, \"playtime_windows_forever\": 0, \"playtime_mac_forever\": 0, \"playtime_linux_forever\": 0, \"rtime_last_played\": 0, \"content_descriptorids\": [1, 2, 5], \"name_player\": \"Riccardo\"}, {\"appid\": 1449850, \"name\": \"Yu-Gi-Oh!  Master Duel\", \"playtime_2weeks\": 395, \"playtime_forever\": 11889, \"img_icon_url\": \"45442aefc5c4050cf37762a2acd978008739544a\", \"has_community_visible_stats\": true, \"playtime_windows_forever\": 11889, \"playtime_mac_forever\": 0, \"playtime_linux_forever\": 0, \"rtime_last_played\": 1673952050, \"name_player\": \"Riccardo\"}, {\"appid\": 1794680, \"name\": \"Vampire Survivors\", \"playtime_forever\": 2011, \"img_icon_url\": \"b09d9a388f5328ec977f7b45228ac8ae21a78c55\", \"has_community_visible_stats\": true, \"playtime_windows_forever\": 2011, \"playtime_mac_forever\": 0, \"playtime_linux_forever\": 0, \"rtime_last_played\": 1671207450, \"name_player\": \"Riccardo\"}]}}\n"
     ]
    }
   ],
   "source": [
    "for obj in data ['response'][ 'games']:\n",
    "    obj['name_player'] = 'Riccardo'\n",
    "\n",
    "# Print the modified JSON data\n",
    "separator = {\"games\"}\n",
    "for item in data:\n",
    "    if item == separator:\n",
    "        data.remove(item)\n",
    "print(json.dumps(data))"
   ]
  },
  {
   "cell_type": "code",
   "execution_count": 39,
   "metadata": {},
   "outputs": [],
   "source": [
    "import json\n",
    "with open('Riccardo_2.json', 'w') as f:\n",
    "    json.dump(data, f)"
   ]
  }
 ],
 "metadata": {
  "kernelspec": {
   "display_name": "base",
   "language": "python",
   "name": "python3"
  },
  "language_info": {
   "codemirror_mode": {
    "name": "ipython",
    "version": 3
   },
   "file_extension": ".py",
   "mimetype": "text/x-python",
   "name": "python",
   "nbconvert_exporter": "python",
   "pygments_lexer": "ipython3",
   "version": "3.9.7 (default, Sep 16 2021, 16:59:28) [MSC v.1916 64 bit (AMD64)]"
  },
  "orig_nbformat": 4,
  "vscode": {
   "interpreter": {
    "hash": "fa1deadfaf49c40958a58f056e9c8fd38825db91d6cfb3f878fda6b368487190"
   }
  }
 },
 "nbformat": 4,
 "nbformat_minor": 2
}
